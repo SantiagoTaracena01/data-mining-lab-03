{
 "cells": [
  {
   "attachments": {},
   "cell_type": "markdown",
   "metadata": {},
   "source": [
    "### Universidad del Valle de Guatemala\n",
    "### (CC3074) Minería de Datos\n",
    "### Laboratorio 03 (SVM)\n",
    "### Marco Orozco (20857) y Santiago Taracena (20017)"
   ]
  },
  {
   "attachments": {},
   "cell_type": "markdown",
   "metadata": {},
   "source": [
    "Para comenzar, necesitamos importar algunas librerías importantes y necesarias para el desarrollo del laboratorio."
   ]
  },
  {
   "cell_type": "code",
   "execution_count": null,
   "metadata": {},
   "outputs": [],
   "source": [
    "# Librerías importantes para el desarrollo del laboratorio.\n",
    "import numpy as np\n",
    "import pandas as pd\n",
    "import matplotlib.pyplot as plt\n",
    "import seaborn as sns"
   ]
  },
  {
   "attachments": {},
   "cell_type": "markdown",
   "metadata": {},
   "source": [
    "Después de importar estas librerías, necesitamos leer el archivo con datos. Esta acción la podemos ejecutar llamando a la función read_csv que viene con pandas."
   ]
  },
  {
   "cell_type": "code",
   "execution_count": null,
   "metadata": {},
   "outputs": [],
   "source": [
    "# Carga del dataset proporcionado.\n",
    "data = pd.read_csv(\"./data/wine_fraud.csv\")"
   ]
  },
  {
   "attachments": {},
   "cell_type": "markdown",
   "metadata": {},
   "source": [
    "#### 1.1) Identifica el tipo de archivo .data y la forma de leerlo."
   ]
  },
  {
   "attachments": {},
   "cell_type": "markdown",
   "metadata": {},
   "source": [
    "Un archivo .data puede ser de muchos tipos diferentes, por lo que la forma de leerlo en Python dependerá del tipo de datos que contenga el archivo .data.\n",
    "\n",
    "Si se trata de un archivo de datos en bruto sin estructura definida, puede ser necesario leerlo como un archivo binario utilizando la función open de Python y luego leer el contenido del archivo utilizando métodos como read o readlines.\n",
    "\n",
    "Si el archivo .data contiene datos estructurados, como una matriz NumPy o un objeto Pandas DataFrame, es posible que sea necesario utilizar bibliotecas específicas para leer el archivo en Python. Por ejemplo, para leer un archivo de matriz NumPy, se puede utilizar la función load de NumPy.\n",
    "\n",
    "Finalmente, para leer un archivo Pandas DataFrame, se puede utilizar la función read_csv o read_pickle de Pandas, dependiendo del formato en que se haya guardado el archivo.\n",
    "\n",
    "En resumen, la forma de leer un archivo .data en Python dependerá del tipo de datos que contenga el archivo. Si no hay una estructura definida en el archivo, puede leerse como un archivo binario utilizando métodos estándar de Python como open y read. Si hay una estructura definida, es posible que necesite utilizar bibliotecas específicas para leer el archivo en Python."
   ]
  }
 ],
 "metadata": {
  "language_info": {
   "name": "python"
  },
  "orig_nbformat": 4
 },
 "nbformat": 4,
 "nbformat_minor": 2
}
